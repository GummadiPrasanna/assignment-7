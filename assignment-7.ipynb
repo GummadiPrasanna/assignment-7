{
 "cells": [
  {
   "cell_type": "code",
   "execution_count": 9,
   "id": "0595eacf",
   "metadata": {},
   "outputs": [],
   "source": [
    "Scenario1:\n",
    "credit card offer.\n",
    " if your salary is less than 10000.  credit limit 10 times of your salary. \n",
    " if your salary is 10000 to 30000.  Credit limit is 20 time of your salary.\n",
    " if your salary is more than 30000.  Credit limit is 30 times of your salary."
   ]
  },
  {
   "cell_type": "code",
   "execution_count": 13,
   "id": "18ae2d1f",
   "metadata": {},
   "outputs": [],
   "source": [
    "def credit_card_offer(credit_limit,salary):\n",
    "    if salary<10000:\n",
    "        credit_limit=salary*10\n",
    "    elif salary>=10000 and salary<=30000:\n",
    "        credit_limit=salary*20\n",
    "    elif salary>30000:\n",
    "        credit_limit=salary*30\n",
    "    return credit_limit\n"
   ]
  },
  {
   "cell_type": "code",
   "execution_count": 14,
   "id": "8422de93",
   "metadata": {},
   "outputs": [
    {
     "data": {
      "text/plain": [
       "90000"
      ]
     },
     "execution_count": 14,
     "metadata": {},
     "output_type": "execute_result"
    }
   ],
   "source": [
    "credit_card_offer(10,9000)"
   ]
  },
  {
   "cell_type": "code",
   "execution_count": 15,
   "id": "8147966e",
   "metadata": {},
   "outputs": [
    {
     "data": {
      "text/plain": [
       "500000"
      ]
     },
     "execution_count": 15,
     "metadata": {},
     "output_type": "execute_result"
    }
   ],
   "source": [
    "credit_card_offer(20,25000)"
   ]
  },
  {
   "cell_type": "code",
   "execution_count": 16,
   "id": "314ba285",
   "metadata": {},
   "outputs": [
    {
     "data": {
      "text/plain": [
       "1200000"
      ]
     },
     "execution_count": 16,
     "metadata": {},
     "output_type": "execute_result"
    }
   ],
   "source": [
    "credit_card_offer(30,40000)"
   ]
  },
  {
   "cell_type": "code",
   "execution_count": null,
   "id": "c7c13378",
   "metadata": {},
   "outputs": [],
   "source": [
    "Scenario2:\n",
    " DMart discount offer. \n",
    " if your purchase amount is less than 20000. discount is 20%.\n",
    "if your purchase amount is 20000 to 40000. discount is 30%. \n",
    "if your purchase amount is more than 50000. discount is 40%.\n",
    "\n",
    "DMart తగ్గింపు ఆఫర్. మీ కొనుగోలు మొత్తం 20000 కంటే తక్కువ ఉంటే. తగ్గింపు 20%.\n",
    "మీ కొనుగోలు మొత్తం 20000 నుండి 40000 వరకు ఉంటే. తగ్గింపు 30%. \n",
    "మీ కొనుగోలు మొత్తం 50000 కంటే ఎక్కువ ఉంటే. తగ్గింపు 40%.\n"
   ]
  },
  {
   "cell_type": "code",
   "execution_count": 17,
   "id": "5f3ff57c",
   "metadata": {},
   "outputs": [],
   "source": [
    "def dmart_offer(discount,purchase):\n",
    "    if purchase<20000:\n",
    "        discount=purchase*.20\n",
    "    elif purchase>=20000 and purchase<=40000:\n",
    "        discount=purchase*.30\n",
    "    elif purchase>50000:\n",
    "        discount=purchase*.40\n",
    "    return discount"
   ]
  },
  {
   "cell_type": "code",
   "execution_count": 18,
   "id": "fc04fd58",
   "metadata": {},
   "outputs": [
    {
     "data": {
      "text/plain": [
       "3000.0"
      ]
     },
     "execution_count": 18,
     "metadata": {},
     "output_type": "execute_result"
    }
   ],
   "source": [
    "dmart_offer(.20,15000)"
   ]
  },
  {
   "cell_type": "code",
   "execution_count": 19,
   "id": "9fc82434",
   "metadata": {},
   "outputs": [
    {
     "data": {
      "text/plain": [
       "10500.0"
      ]
     },
     "execution_count": 19,
     "metadata": {},
     "output_type": "execute_result"
    }
   ],
   "source": [
    "dmart_offer(.30,35000)"
   ]
  },
  {
   "cell_type": "code",
   "execution_count": 20,
   "id": "df21fe54",
   "metadata": {},
   "outputs": [
    {
     "data": {
      "text/plain": [
       "24000.0"
      ]
     },
     "execution_count": 20,
     "metadata": {},
     "output_type": "execute_result"
    }
   ],
   "source": [
    "dmart_offer(.40,60000)"
   ]
  },
  {
   "cell_type": "code",
   "execution_count": null,
   "id": "11619670",
   "metadata": {},
   "outputs": [],
   "source": [
    "Scenario3:\n",
    "Amazom online offer. \n",
    "if product is electoric type then 20% discount. \n",
    "if product is cloth type then 30% discount. \n",
    "if product is footware then 40% discount.\n",
    "Amazom ఆన్‌లైన్ ఆఫర్.\n",
    " ఉత్పత్తి ఎలక్టోరిక్ రకం అయితే 20% తగ్గింపు. \n",
    " ఉత్పత్తి వస్త్రం రకం అయితే 30% తగ్గింపు. \n",
    " ఉత్పత్తి ఫుట్‌వేర్ అయితే 40% తగ్గింపు.\n"
   ]
  },
  {
   "cell_type": "code",
   "execution_count": 1,
   "id": "dab2eea5",
   "metadata": {},
   "outputs": [],
   "source": [
    "def amazon_online_offer(product,cost):\n",
    "    if product==\"electronic\":\n",
    "        discount=cost*.20\n",
    "    elif product==\"cloth\":\n",
    "        discount=cost*.30\n",
    "    elif product==\"footware\":\n",
    "        discount=cost*.40\n",
    "    return discount"
   ]
  },
  {
   "cell_type": "code",
   "execution_count": 2,
   "id": "93438898",
   "metadata": {},
   "outputs": [
    {
     "data": {
      "text/plain": [
       "500.0"
      ]
     },
     "execution_count": 2,
     "metadata": {},
     "output_type": "execute_result"
    }
   ],
   "source": [
    "amazon_online_offer(\"electronic\",2500)"
   ]
  },
  {
   "cell_type": "code",
   "execution_count": 25,
   "id": "a4b710f5",
   "metadata": {},
   "outputs": [
    {
     "data": {
      "text/plain": [
       "300.0"
      ]
     },
     "execution_count": 25,
     "metadata": {},
     "output_type": "execute_result"
    }
   ],
   "source": [
    "amazon_online_offer(\"cloth\",.30,1000)"
   ]
  },
  {
   "cell_type": "code",
   "execution_count": 26,
   "id": "af68c5ad",
   "metadata": {},
   "outputs": [
    {
     "data": {
      "text/plain": [
       "150.0"
      ]
     },
     "execution_count": 26,
     "metadata": {},
     "output_type": "execute_result"
    }
   ],
   "source": [
    "amazon_online_offer(\"cloth\",.40,500)"
   ]
  },
  {
   "cell_type": "code",
   "execution_count": null,
   "id": "cce090b0",
   "metadata": {},
   "outputs": [],
   "source": []
  }
 ],
 "metadata": {
  "kernelspec": {
   "display_name": "Python 3 (ipykernel)",
   "language": "python",
   "name": "python3"
  },
  "language_info": {
   "codemirror_mode": {
    "name": "ipython",
    "version": 3
   },
   "file_extension": ".py",
   "mimetype": "text/x-python",
   "name": "python",
   "nbconvert_exporter": "python",
   "pygments_lexer": "ipython3",
   "version": "3.10.9"
  }
 },
 "nbformat": 4,
 "nbformat_minor": 5
}
